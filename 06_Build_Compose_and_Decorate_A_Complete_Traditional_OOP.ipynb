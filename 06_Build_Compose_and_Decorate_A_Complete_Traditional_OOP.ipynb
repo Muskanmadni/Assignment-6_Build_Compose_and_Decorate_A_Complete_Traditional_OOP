{
  "nbformat": 4,
  "nbformat_minor": 0,
  "metadata": {
    "colab": {
      "provenance": []
    },
    "kernelspec": {
      "name": "python3",
      "display_name": "Python 3"
    },
    "language_info": {
      "name": "python"
    }
  },
  "cells": [
    {
      "cell_type": "code",
      "execution_count": null,
      "metadata": {
        "colab": {
          "base_uri": "https://localhost:8080/"
        },
        "id": "a4IAym1ZVPxk",
        "outputId": "676b49dc-21ca-45d2-a516-42f542e7b829"
      },
      "outputs": [
        {
          "output_type": "stream",
          "name": "stdout",
          "text": [
            "Name: Alice\n",
            "Marks: 85\n"
          ]
        }
      ],
      "source": [
        "#1. Using self\n",
        "#Assignment:\n",
        "#Create a class Student with attributes name and marks. Use the self keyword to initialize these values via a constructor. Add a method display() that prints student details.\n",
        "\n",
        "class Student:\n",
        "    def __init__(self, name, marks):\n",
        "        self.name = name\n",
        "        self.marks = marks\n",
        "\n",
        "    def display(self):\n",
        "        print(f\"Name: {self.name}\")\n",
        "        print(f\"Marks: {self.marks}\")\n",
        "student1 = Student(\"Mia\", 85)\n",
        "student1.display()\n"
      ]
    },
    {
      "cell_type": "code",
      "source": [
        "#2. Using cls\n",
        "# Assignment:\n",
        "# Create a class Counter that keeps track of how many objects have been created. Use a class variable and a class method with cls to manage and display the count.\n",
        "class Counter:\n",
        "    count = 0\n",
        "\n",
        "    def __init__(self):\n",
        "        Counter.count += 1\n",
        "\n",
        "    @classmethod\n",
        "    def display_count(cls):\n",
        "        print(f\"Number of objects created: {cls.count}\")\n",
        "\n",
        "# Example usage\n",
        "obj1 = Counter()\n",
        "obj2 = Counter()\n",
        "obj3 = Counter()\n",
        "obj4 = Counter()\n",
        "\n",
        "Counter.display_count()\n"
      ],
      "metadata": {
        "colab": {
          "base_uri": "https://localhost:8080/"
        },
        "id": "ICieha4kV85F",
        "outputId": "8c76e4be-39dd-4b98-c17f-3fff1c6b79a4"
      },
      "execution_count": null,
      "outputs": [
        {
          "output_type": "stream",
          "name": "stdout",
          "text": [
            "Number of objects created: 4\n"
          ]
        }
      ]
    },
    {
      "cell_type": "code",
      "source": [
        "\n",
        "#3. Public Variables and Methods\n",
        "# Assignment:\n",
        "# Create a class Car with a public variable brand and a public method start(). Instantiate the class and access both from outside the class\n",
        "\n",
        "class Car:\n",
        "    def __init__(self, brand):\n",
        "        self.brand = brand\n",
        "    def start(self):\n",
        "        print(f\"{self.brand} car is starting...\")\n",
        "my_car = Car(\"SUV\")\n",
        "print(\"Car brand:\", my_car.brand)\n",
        "my_car.start()\n",
        "\n",
        "\n",
        "\n"
      ],
      "metadata": {
        "colab": {
          "base_uri": "https://localhost:8080/"
        },
        "id": "DbLJ3GAzWq7n",
        "outputId": "2a4b630b-444f-4a8f-f0d3-2bf51908109c"
      },
      "execution_count": null,
      "outputs": [
        {
          "output_type": "stream",
          "name": "stdout",
          "text": [
            "Car brand: Toyota\n",
            "Toyota car is starting...\n"
          ]
        }
      ]
    },
    {
      "cell_type": "code",
      "source": [
        "# 4. Class Variables and Class Methods\n",
        "# Assignment:\n",
        "#Create a class Bank with a class variable bank_name. Add a class method change_bank_name(cls, name) that allows changing the bank name. Show that it affects all instances.\n",
        "\n",
        "class Bank:\n",
        "    bank_name = \"Default Bank\"\n",
        "\n",
        "    def __init__(self, account_holder):\n",
        "        self.account_holder = account_holder\n",
        "\n",
        "    @classmethod\n",
        "    def change_bank_name(cls, name):\n",
        "        cls.bank_name = name\n",
        "\n",
        "    def display(self):\n",
        "        print(f\"Account Holder: {self.account_holder}\")\n",
        "        print(f\"Bank Name: {Bank.bank_name}\")\n",
        "\n",
        "acc1 = Bank(\"Jungkook\")\n",
        "acc2 = Bank(\"Jin\")\n",
        "acc1.display()\n",
        "acc2.display()\n",
        "\n",
        "print(\"\\nChanging bank name...\\n\")\n",
        "Bank.change_bank_name(\"Global Trust Bank\")\n",
        "acc1.display()\n",
        "acc2.display()\n"
      ],
      "metadata": {
        "colab": {
          "base_uri": "https://localhost:8080/"
        },
        "id": "AF_pvy66Wq6K",
        "outputId": "804850ca-6e2f-4c58-889f-8559ea41bd3c"
      },
      "execution_count": null,
      "outputs": [
        {
          "output_type": "stream",
          "name": "stdout",
          "text": [
            "Account Holder: Jungkook\n",
            "Bank Name: Default Bank\n",
            "Account Holder: Jin\n",
            "Bank Name: Default Bank\n",
            "\n",
            "Changing bank name...\n",
            "\n",
            "Account Holder: Jungkook\n",
            "Bank Name: Global Trust Bank\n",
            "Account Holder: Jin\n",
            "Bank Name: Global Trust Bank\n"
          ]
        }
      ]
    },
    {
      "cell_type": "code",
      "source": [
        "# 5. Static Variables and Static Methods\n",
        "# Assignment:\n",
        "# Create a class MathUtils with a static method add(a, b) that returns the sum. No class or instance variables should be used.\n",
        "\n",
        "class MathUtils:\n",
        "    @staticmethod\n",
        "    def add(a, b):\n",
        "        return a + b\n",
        "result = MathUtils.add(10, 15)\n",
        "print(\"Sum:\", result)\n"
      ],
      "metadata": {
        "colab": {
          "base_uri": "https://localhost:8080/"
        },
        "id": "IrS9kIMCXudY",
        "outputId": "cd7c859e-1973-4071-ab34-c10bab361b4e"
      },
      "execution_count": null,
      "outputs": [
        {
          "output_type": "stream",
          "name": "stdout",
          "text": [
            "Sum: 25\n"
          ]
        }
      ]
    },
    {
      "cell_type": "code",
      "source": [
        "# 6. Constructors and Destructors\n",
        "# Assignment:\n",
        "# Create a class Logger that prints a message when an object is created (constructor) and another message when it is destroyed (destructor).\n",
        "\n",
        "class Logger:\n",
        "    def __init__(self):\n",
        "        print(\"Logger object has been created.\")\n",
        "\n",
        "    def __del__(self):\n",
        "        print(\"Logger object is being destroyed.\")\n",
        "log = Logger()\n",
        "del log\n"
      ],
      "metadata": {
        "colab": {
          "base_uri": "https://localhost:8080/"
        },
        "id": "Nvt4m03cYkc0",
        "outputId": "a9071763-bd30-42af-9b07-81bdb931b56d"
      },
      "execution_count": null,
      "outputs": [
        {
          "output_type": "stream",
          "name": "stdout",
          "text": [
            "Logger object has been created.\n",
            "Logger object is being destroyed.\n"
          ]
        }
      ]
    },
    {
      "cell_type": "code",
      "source": [
        "#7. Access Modifiers: Public, Private, and Protected\n",
        "# Assignment:\n",
        "# Create a class Employee with:\n",
        "\n",
        "# a public variable name,\n",
        "\n",
        "# a protected variable _salary, and\n",
        "\n",
        "# a private variable __ssn.\n",
        "\n",
        "# Try accessing all three variables from an object of the class and document what happens.\n",
        "\n",
        "class Employee:\n",
        "    def __init__(self, name, salary, ssn):\n",
        "        self.name = name\n",
        "        self._salary = salary\n",
        "        self.__ssn = ssn\n",
        "\n",
        "emp = Employee(\"Jungkook\", 50000, \"123-45-6789\")\n",
        "\n",
        "print(\"Name:\", emp.name)\n",
        "\n",
        "print(\"Salary (protected):\", emp._salary)\n",
        "\n",
        "try:\n",
        "    print(\"SSN (private):\", emp.__ssn)\n",
        "except AttributeError as e:\n",
        "    print(\"Accessing private variable failed:\", e)\n",
        "\n",
        "print(\"SSN (accessed via name mangling):\", emp._Employee__ssn)\n",
        "\n"
      ],
      "metadata": {
        "colab": {
          "base_uri": "https://localhost:8080/"
        },
        "id": "3tAH_hVoY7Nb",
        "outputId": "f31703e7-152e-4b14-9a8a-bbda91021006"
      },
      "execution_count": null,
      "outputs": [
        {
          "output_type": "stream",
          "name": "stdout",
          "text": [
            "Name: Jungkook\n",
            "Salary (protected): 50000\n",
            "Accessing private variable failed: 'Employee' object has no attribute '__ssn'\n",
            "SSN (accessed via name mangling): 123-45-6789\n"
          ]
        }
      ]
    },
    {
      "cell_type": "code",
      "source": [
        "# 8. The super() Function\n",
        "# Assignment:\n",
        "# Create a class Person with a constructor that sets the name. Inherit a class Teacher from it, add a subject field, and use super() to call the base class constructor\n",
        "\n",
        "class Person:\n",
        "    def __init__(self, name):\n",
        "        self.name = name\n",
        "        print(f\"Person constructor called. Name: {self.name}\")\n",
        "\n",
        "class Teacher(Person):\n",
        "    def __init__(self, name, subject):\n",
        "        super().__init__(name)\n",
        "        self.subject = subject\n",
        "        print(f\"Teacher constructor called. Subject: {self.subject}\")\n",
        "t = Teacher(\"Somi\", \"Korean language\")\n"
      ],
      "metadata": {
        "colab": {
          "base_uri": "https://localhost:8080/"
        },
        "id": "qhxYwoAnZ-S_",
        "outputId": "b7f8ce26-1afd-48a2-c456-fd0f8d7f5f57"
      },
      "execution_count": null,
      "outputs": [
        {
          "output_type": "stream",
          "name": "stdout",
          "text": [
            "Person constructor called. Name: Somi\n",
            "Teacher constructor called. Subject: Korean language\n"
          ]
        }
      ]
    },
    {
      "cell_type": "code",
      "source": [
        "# 9. Abstract Classes and Methods\n",
        "# Assignment:\n",
        "# Use the abc module to create an abstract class Shape with an abstract method area(). Inherit a class Rectangle that implements area().\n",
        "\n",
        "from abc import ABC, abstractmethod\n",
        "\n",
        "# Abstract base class\n",
        "class Shape(ABC):\n",
        "    @abstractmethod\n",
        "    def area(self):\n",
        "        pass\n",
        "\n",
        "class Rectangle(Shape):\n",
        "    def __init__(self, width, height):\n",
        "        self.width = width\n",
        "        self.height = height\n",
        "\n",
        "    def area(self):\n",
        "        return self.width * self.height\n",
        "\n",
        "rect = Rectangle(5, 10)\n",
        "print(\"Area of rectangle:\", rect.area())\n"
      ],
      "metadata": {
        "colab": {
          "base_uri": "https://localhost:8080/"
        },
        "id": "HKLD47Q2adB-",
        "outputId": "6a724f6f-5782-445e-b102-727a4d0916b1"
      },
      "execution_count": null,
      "outputs": [
        {
          "output_type": "stream",
          "name": "stdout",
          "text": [
            "Area of rectangle: 50\n"
          ]
        }
      ]
    },
    {
      "cell_type": "code",
      "source": [
        "# 10. Instance Methods\n",
        "# Assignment:\n",
        "# Create a class Dog with instance variables name and breed. Add an instance method bark() that prints a message including the dog's name.\n",
        "\n",
        "class Dog:\n",
        "    def __init__(self, name, breed):\n",
        "        self.name = name\n",
        "        self.breed = breed\n",
        "\n",
        "    def bark(self):\n",
        "        print(f\"{self.name} says: Woof!\")\n",
        "\n",
        "# Example usage\n",
        "dog1 = Dog(\"Buddy\", \"Golden Retriever\")\n",
        "dog1.bark()\n"
      ],
      "metadata": {
        "colab": {
          "base_uri": "https://localhost:8080/"
        },
        "id": "QRkUMfVPbeLl",
        "outputId": "3f6047bd-09e9-41ab-c0a8-c76d0288b0ea"
      },
      "execution_count": null,
      "outputs": [
        {
          "output_type": "stream",
          "name": "stdout",
          "text": [
            "Buddy says: Woof!\n"
          ]
        }
      ]
    },
    {
      "cell_type": "code",
      "source": [
        "# 11. Class Methods\n",
        "# Assignment:\n",
        "# Create a class Book with a class variable total_books. Add a class method increment_book_count() to increase the count when a new book is added.\n",
        "\n",
        "class Book:\n",
        "\n",
        "    total_books = 0\n",
        "\n",
        "    def __init__(self, title, author):\n",
        "        self.title = title\n",
        "        self.author = author\n",
        "        Book.increment_book_count()\n",
        "\n",
        "    @classmethod\n",
        "    def increment_book_count(cls):\n",
        "        cls.total_books += 1\n",
        "\n",
        "    @classmethod\n",
        "    def display_total_books(cls):\n",
        "        print(f\"Total books: {cls.total_books}\")\n",
        "\n",
        "b1 = Book(\"1984\", \"George Orwell\")\n",
        "b2 = Book(\"To Kill a Mockingbird\", \"Harper Lee\")\n",
        "b3 = Book(\"The Great Gatsby\", \"F. Scott Fitzgerald\")\n",
        "\n",
        "Book.display_total_books()\n"
      ],
      "metadata": {
        "colab": {
          "base_uri": "https://localhost:8080/"
        },
        "id": "dfKL1kHZbx5q",
        "outputId": "bf7ade20-0fc6-4e6f-8fc8-fcaa9e2a96f5"
      },
      "execution_count": null,
      "outputs": [
        {
          "output_type": "stream",
          "name": "stdout",
          "text": [
            "Total books: 3\n"
          ]
        }
      ]
    },
    {
      "cell_type": "code",
      "source": [
        "#12. Static Methods\n",
        "#Assignment:\n",
        "#Create a class TemperatureConverter with a static method celsius_to_fahrenheit(c) that returns the Fahrenheit value\n",
        "\n",
        "class TemperatureConverter:\n",
        "    @staticmethod\n",
        "    def celsius_to_fahrenheit(c):\n",
        "        return (c * 9/5) + 32\n",
        "\n",
        "temp_c = 25\n",
        "temp_f = TemperatureConverter.celsius_to_fahrenheit(temp_c)\n",
        "print(f\"{temp_c}°C is equal to {temp_f}°\")"
      ],
      "metadata": {
        "colab": {
          "base_uri": "https://localhost:8080/"
        },
        "id": "B1-o1HQRcbOI",
        "outputId": "ffa76279-3b4a-4e2a-83c3-cb761b6adbec"
      },
      "execution_count": null,
      "outputs": [
        {
          "output_type": "stream",
          "name": "stdout",
          "text": [
            "25°C is equal to 77.0°\n"
          ]
        }
      ]
    },
    {
      "cell_type": "code",
      "source": [
        "#13. Composition\n",
        "#Assignment:\n",
        "#Create a class Engine and a class Car. Use composition by passing an Engine object to the Car class during initialization. Access a method of the Engine class via the Car class\n",
        "\n",
        "class Engine:\n",
        "    def start(self):\n",
        "        print(\"Engine has started.\")\n",
        "\n",
        "class Car:\n",
        "    def __init__(self, engine):\n",
        "        self.engine = engine\n",
        "\n",
        "    def start_car(self):\n",
        "        print(\"Starting the car...\")\n",
        "        self.engine.start()\n",
        "\n",
        "engine = Engine()\n",
        "my_car = Car(engine)\n",
        "my_car.start_car()\n"
      ],
      "metadata": {
        "colab": {
          "base_uri": "https://localhost:8080/"
        },
        "id": "wBumPYKhcij3",
        "outputId": "fbd4dbc6-0a2c-4fc8-ab0d-125976a78784"
      },
      "execution_count": null,
      "outputs": [
        {
          "output_type": "stream",
          "name": "stdout",
          "text": [
            "Starting the car...\n",
            "Engine has started.\n"
          ]
        }
      ]
    },
    {
      "cell_type": "code",
      "source": [
        "#14. Aggregation\n",
        "#Assignment:\n",
        "#Create a class Department and a class Employee. Use aggregation by having a Department object store a reference to an Employee object that exists independently of it.\n",
        "class Employee:\n",
        "    def __init__(self, name, emp_id):\n",
        "        self.name = name\n",
        "        self.emp_id = emp_id\n",
        "\n",
        "    def display(self):\n",
        "        print(f\"Employee Name: {self.name}, ID: {self.emp_id}\")\n",
        "\n",
        "class Department:\n",
        "    def __init__(self, dept_name, employee):\n",
        "        self.dept_name = dept_name\n",
        "        self.employee = employee\n",
        "\n",
        "    def show_details(self):\n",
        "        print(f\"Department: {self.dept_name}\")\n",
        "        self.employee.display()\n",
        "\n",
        "emp = Employee(\"Lisa\", 101)\n",
        "\n",
        "dept = Department(\"HR\", emp)\n",
        "\n",
        "dept.show_details()\n"
      ],
      "metadata": {
        "colab": {
          "base_uri": "https://localhost:8080/"
        },
        "id": "EUn1_OCwcr9O",
        "outputId": "17c2174c-9083-49ed-b0fd-ed4f09c0aacd"
      },
      "execution_count": null,
      "outputs": [
        {
          "output_type": "stream",
          "name": "stdout",
          "text": [
            "Department: HR\n",
            "Employee Name: Lisa, ID: 101\n"
          ]
        }
      ]
    },
    {
      "cell_type": "code",
      "source": [
        "#15. Method Resolution Order (MRO) and Diamond Inheritance\n",
        "#Assignment:\n",
        "#Create four classes:\n",
        "\n",
        "#A with a method show(),\n",
        "\n",
        "#B and C that inherit from A and override show(),\n",
        "\n",
        "#D that inherits from both B and C.\n",
        "\n",
        "#Create an object of D and call show() to observe MRO.\n",
        "\n",
        "class A:\n",
        "    def show(self):\n",
        "        print(\"Show from class A\")\n",
        "\n",
        "class B(A):\n",
        "    def show(self):\n",
        "        print(\"Show from class B\")\n",
        "\n",
        "class C(A):\n",
        "    def show(self):\n",
        "        print(\"Show from class C\")\n",
        "\n",
        "class D(B, C):\n",
        "    pass\n",
        "\n",
        "d = D()\n",
        "d.show()\n",
        "print(\"\\nMRO of class D:\")\n",
        "for cls in D.__mro__:\n",
        "    print(cls.__name__)\n"
      ],
      "metadata": {
        "colab": {
          "base_uri": "https://localhost:8080/"
        },
        "id": "mhpchYHxcwa2",
        "outputId": "43b6dbcd-dff0-471f-da68-b3f402f5f67c"
      },
      "execution_count": null,
      "outputs": [
        {
          "output_type": "stream",
          "name": "stdout",
          "text": [
            "Show from class B\n",
            "\n",
            "MRO of class D:\n",
            "D\n",
            "B\n",
            "C\n",
            "A\n",
            "object\n"
          ]
        }
      ]
    },
    {
      "cell_type": "code",
      "source": [
        "#16. Function Decorators\n",
        "#Assignment:\n",
        "#Write a decorator function log_function_call that prints \"Function is being called\" before a function executes. Apply it to a function say_hello().\n",
        "\n",
        "def log_function_call(func):\n",
        "    def wrapper(*args, **kwargs):\n",
        "        print(\"Function is being called\")\n",
        "        return func(*args, **kwargs)\n",
        "    return wrapper\n",
        "\n",
        "@log_function_call\n",
        "def say_hello():\n",
        "    print(\"Hello!\")\n",
        "\n",
        "# Example usage\n",
        "say_hello()\n"
      ],
      "metadata": {
        "colab": {
          "base_uri": "https://localhost:8080/"
        },
        "id": "6MavUekOc84e",
        "outputId": "42baacf5-cf98-4720-d13d-364346eb1e09"
      },
      "execution_count": null,
      "outputs": [
        {
          "output_type": "stream",
          "name": "stdout",
          "text": [
            "Function is being called\n",
            "Hello!\n"
          ]
        }
      ]
    },
    {
      "cell_type": "code",
      "source": [
        "#17. Class Decorators\n",
        "#Assignment:\n",
        "#Create a class decorator add_greeting that modifies a class to add a greet() method returning \"Hello from Decorator!\". Apply it to a class Person.\n",
        "\n",
        "# Class decorator\n",
        "def add_greeting(cls):\n",
        "    def greet(self):\n",
        "        return \"Hello from Decorator!\"\n",
        "    cls.greet = greet\n",
        "    return cls\n",
        "\n",
        "@add_greeting\n",
        "class Person:\n",
        "    def __init__(self, name):\n",
        "        self.name = name\n",
        "\n",
        "p = Person(\"Jungkook\")\n",
        "print(p.greet()) #\n",
        "\n"
      ],
      "metadata": {
        "colab": {
          "base_uri": "https://localhost:8080/"
        },
        "id": "ObKMCqifc82o",
        "outputId": "192290fe-7fc1-4b81-be6f-2571f7e192ca"
      },
      "execution_count": null,
      "outputs": [
        {
          "output_type": "stream",
          "name": "stdout",
          "text": [
            "Hello from Decorator!\n"
          ]
        }
      ]
    },
    {
      "cell_type": "code",
      "source": [
        "#18. Property Decorators: @property, @setter, and @deleter\n",
        "#Assignment:\n",
        "#Create a class Product with a private attribute _price. Use @property to get the price, @price.setter to update it, and @price.deleter to delete it.\n",
        "\n",
        "class Product:\n",
        "    def __init__(self, price):\n",
        "        self._price = price\n",
        "\n",
        "    @property\n",
        "    def price(self):\n",
        "        print(\"Getting price...\")\n",
        "        return self._price\n",
        "\n",
        "    @price.setter\n",
        "    def price(self, value):\n",
        "        if value < 0:\n",
        "            raise ValueError(\"Price cannot be negative.\")\n",
        "        print(\"Setting price...\")\n",
        "        self._price = value\n",
        "\n",
        "    @price.deleter\n",
        "    def price(self):\n",
        "        print(\"Deleting price...\")\n",
        "        del self._price\n",
        "\n",
        "\n",
        "p = Product(100)\n",
        "print(p.price)\n",
        "p.price = 150\n",
        "print(p.price)\n",
        "del p.price\n"
      ],
      "metadata": {
        "colab": {
          "base_uri": "https://localhost:8080/"
        },
        "id": "ieMYuKPXdI3s",
        "outputId": "b3cad1aa-f513-49c4-9c21-311c0fa64e99"
      },
      "execution_count": null,
      "outputs": [
        {
          "output_type": "stream",
          "name": "stdout",
          "text": [
            "Getting price...\n",
            "100\n",
            "Setting price...\n",
            "Getting price...\n",
            "150\n",
            "Deleting price...\n"
          ]
        }
      ]
    },
    {
      "cell_type": "code",
      "source": [
        "#19. callable() and __call__()\n",
        "#Assignment:\n",
        "#Create a class Multiplier with an __init__() to set a factor. Define a __call__() method that multiplies an input by the factor. Test it with callable() and by calling the object like a function.\n",
        "\n",
        "class Multiplier:\n",
        "    def __init__(self, factor):\n",
        "        self.factor = factor\n",
        "\n",
        "    def __call__(self, value):\n",
        "        return value * self.factor\n",
        "\n",
        "triple = Multiplier(3)\n",
        "\n",
        "print(\"Is 'triple' callable?\", callable(triple))\n",
        "\n",
        "result = triple(10)\n",
        "print(\"triple(10) =\", result)\n"
      ],
      "metadata": {
        "colab": {
          "base_uri": "https://localhost:8080/"
        },
        "id": "_Jq5UO2zdRoM",
        "outputId": "aa2e1a71-fdd9-477b-98c3-575e18cf88a9"
      },
      "execution_count": null,
      "outputs": [
        {
          "output_type": "stream",
          "name": "stdout",
          "text": [
            "Is 'triple' callable? True\n",
            "triple(10) = 30\n"
          ]
        }
      ]
    },
    {
      "cell_type": "code",
      "source": [
        "#20. Creating a Custom Exception\n",
        "#Assignment:\n",
        "#Create a custom exception InvalidAgeError. Write a function check_age(age) that raises this exception if age < 18. Handle it with try...except.\n",
        "\n",
        "class InvalidAgeError(Exception):\n",
        "    def __init__(self, message=\"Age must be 18 or older\"):\n",
        "        super().__init__(message)\n",
        "\n",
        "def check_age(age):\n",
        "    if age < 18:\n",
        "        raise InvalidAgeError(f\"Invalid age: {age}. Must be 18 or older.\")\n",
        "    else:\n",
        "        print(\"Age is valid.\")\n",
        "try:\n",
        "    check_age(16)\n",
        "except InvalidAgeError as e:\n",
        "    print(\"Caught an exception:\", e)\n",
        "\n"
      ],
      "metadata": {
        "colab": {
          "base_uri": "https://localhost:8080/"
        },
        "id": "qaAXPGCEdX-8",
        "outputId": "39b71a85-96a1-453c-bb8c-f553e804cf83"
      },
      "execution_count": null,
      "outputs": [
        {
          "output_type": "stream",
          "name": "stdout",
          "text": [
            "Caught an exception: Invalid age: 16. Must be 18 or older.\n"
          ]
        }
      ]
    },
    {
      "cell_type": "code",
      "source": [
        "#21. Make a Custom Class Iterable\n",
        "#Assignment:\n",
        "#Create a class Countdown that takes a start number. Implement __iter__() and __next__() to make the object iterable in a for-loop, counting down to 0.\n",
        "\n",
        "class Countdown:\n",
        "    def __init__(self, start):\n",
        "        self.current = start\n",
        "\n",
        "    def __iter__(self):\n",
        "        return self\n",
        "\n",
        "    def __next__(self):\n",
        "        if self.current < 0:\n",
        "            raise StopIteration\n",
        "        value = self.current\n",
        "        self.current -= 1\n",
        "        return value\n",
        "\n",
        "for number in Countdown(5):\n",
        "    print(number)\n"
      ],
      "metadata": {
        "colab": {
          "base_uri": "https://localhost:8080/"
        },
        "id": "woWuLQh7dhlM",
        "outputId": "e80538d0-3c51-4023-c5a4-01b8b7f09845"
      },
      "execution_count": null,
      "outputs": [
        {
          "output_type": "stream",
          "name": "stdout",
          "text": [
            "5\n",
            "4\n",
            "3\n",
            "2\n",
            "1\n",
            "0\n"
          ]
        }
      ]
    }
  ]
}